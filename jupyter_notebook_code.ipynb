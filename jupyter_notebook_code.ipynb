{
  "nbformat": 4,
  "nbformat_minor": 0,
  "metadata": {
    "colab": {
      "name": "AC HRI Data Analysis v2.ipynb",
      "version": "0.3.2",
      "provenance": [],
      "collapsed_sections": [],
      "toc_visible": true
    },
    "kernelspec": {
      "name": "python3",
      "display_name": "Python 3"
    }
  },
  "cells": [
    {
      "cell_type": "markdown",
      "metadata": {
        "id": "KlNQH-VKSag9",
        "colab_type": "text"
      },
      "source": [
        "# Default Setup"
      ]
    },
    {
      "cell_type": "code",
      "metadata": {
        "id": "zqTA6lsAsvFX",
        "colab_type": "code",
        "cellView": "both",
        "outputId": "b06e0435-46f9-44e3-89e6-5fc771474b9b",
        "colab": {
          "base_uri": "https://localhost:8080/",
          "height": 50
        }
      },
      "source": [
        "#@title Mounting Google Drive\n",
        "from google.colab import files\n",
        "from google.colab import drive\n",
        "\n",
        "from google.colab import drive\n",
        "drive.mount('/gdrive')\n",
        "%cd /gdrive/My\\ Drive/Colab\\ Notebooks"
      ],
      "execution_count": 0,
      "outputs": [
        {
          "output_type": "stream",
          "text": [
            "Drive already mounted at /gdrive; to attempt to forcibly remount, call drive.mount(\"/gdrive\", force_remount=True).\n",
            "/gdrive/My Drive/Colab Notebooks\n"
          ],
          "name": "stdout"
        }
      ]
    },
    {
      "cell_type": "code",
      "metadata": {
        "id": "wHH9zKhO0nrN",
        "colab_type": "code",
        "outputId": "7359156e-d6ec-4d5a-bec1-3162ba3bb0a4",
        "colab": {
          "base_uri": "https://localhost:8080/",
          "height": 82
        }
      },
      "source": [
        "!ls"
      ],
      "execution_count": 0,
      "outputs": [
        {
          "output_type": "stream",
          "text": [
            " ACHRIData\t\t\t  group15_snlp.ipynb\n",
            "'AC HRI Data Analysis.ipynb'\t 'Testing Colab.ipynb'\n",
            "'AC HRI Data Analysis v2.ipynb'  'Testing NN.ipynb'\n",
            " gannota-daniil-15012847.ipynb\n"
          ],
          "name": "stdout"
        }
      ]
    },
    {
      "cell_type": "code",
      "metadata": {
        "id": "m0FgO-wjtTbj",
        "colab_type": "code",
        "cellView": "both",
        "colab": {}
      },
      "source": [
        "#@title Importing libraries\n",
        "import datetime\n",
        "import matplotlib.pyplot as plt\n",
        "\n",
        "import librosa\n",
        "import librosa.display\n",
        "\n",
        "import pandas as pd\n",
        "import numpy as np\n",
        "\n",
        "import statistics as st"
      ],
      "execution_count": 0,
      "outputs": []
    },
    {
      "cell_type": "markdown",
      "metadata": {
        "id": "Al6l26j2SjVr",
        "colab_type": "text"
      },
      "source": [
        "# Audio Data Analysis"
      ]
    },
    {
      "cell_type": "code",
      "metadata": {
        "id": "-QVut1XXIEsI",
        "colab_type": "code",
        "colab": {}
      },
      "source": [
        "list_of_audios = [\n",
        "    \"D0.m4a\"\n",
        "    \"D1.m4a\",\n",
        "    \"D2.m4a\",\n",
        "    \"D3.m4a\",\n",
        "    \"D4.m4a\",\n",
        "    \"D5.m4a\",\n",
        "    \"D6.m4a\",\n",
        "    \"D7.m4a\",\n",
        "    \"D8.m4a\",\n",
        "    \"D9.m4a\",\n",
        "    \"D10.m4a\",\n",
        "    \"D11.m4a\"\n",
        "]"
      ],
      "execution_count": 0,
      "outputs": []
    },
    {
      "cell_type": "code",
      "metadata": {
        "id": "s8PSNHDXeSiN",
        "colab_type": "code",
        "outputId": "0675826b-c575-4097-c2a9-c1ff2a2c6ef0",
        "colab": {
          "base_uri": "https://localhost:8080/",
          "height": 300
        }
      },
      "source": [
        "# df_audio = pd.DataFrame()\n",
        "def analysing_audio():\n",
        "#   list_of_audios = []\n",
        "  \n",
        "  for audio_name in list_of_audios:\n",
        "#     list_of_audio = []\n",
        "    data, sampling_rate = librosa.load('ACHRIData/New Voice/' + audio_name)\n",
        "    librosa.display.waveplot(data, sr=sampling_rate)\n",
        "    print(sampling_rate, data.shape)\n",
        "    \n",
        "#     df_audio = pd.DataFrame(data, pd.Index([x / sampling_rate for x in range(len(data))]))\n",
        "#     print(df_audio.head(), '\\n')\n",
        "    \n",
        "  \n",
        "#   for audio_name in list_of_audios:\n",
        "#     data, sampling_rate = librosa.load('ACHRIData/New Voice/' + audio_name)\n",
        "#     features = librosa.feature.mfcc(y=data, sr=sampling_rate, n_mfcc=5)\n",
        "#     features = librosa.feature.delta(features, order=2)\n",
        "#     librosa.display.waveplot(data, sr=sampling_rate)\n",
        "#     plt.show()\n",
        "#     librosa.display.specshow(features, x_axis='time')\n",
        "#     plt.show()\n",
        "#     print(audio_name,np.sum(features))\n",
        "    \n",
        "analysing_audio()"
      ],
      "execution_count": 0,
      "outputs": [
        {
          "output_type": "stream",
          "text": [
            "22050 (5384672,)\n"
          ],
          "name": "stdout"
        },
        {
          "output_type": "display_data",
          "data": {
            "image/png": "[encoded data removed]",
            "text/plain": [
              "<Figure size 432x288 with 1 Axes>"
            ]
          },
          "metadata": {
            "tags": []
          }
        }
      ]
    },
    {
      "cell_type": "code",
      "metadata": {
        "id": "JGmVUWFGODKz",
        "colab_type": "code",
        "outputId": "70b614a7-e0d6-40a8-a0ea-7d0e5024f491",
        "colab": {
          "base_uri": "https://localhost:8080/",
          "height": 300
        }
      },
      "source": [
        "data, sampling_rate = librosa.load('ACHRIData/New Voice/D0.m4a')\n",
        "librosa.display.waveplot(data, sr=sampling_rate)\n",
        "plt.savefig('ACHRIData/SAVED/waveplot.png', dpi=100)\n",
        "features = librosa.feature.mfcc(y=data, sr=sampling_rate, n_mfcc=5)\n",
        "print(sampling_rate, data.shape)"
      ],
      "execution_count": 0,
      "outputs": [
        {
          "output_type": "stream",
          "text": [
            "22050 (5384672,)\n"
          ],
          "name": "stdout"
        },
        {
          "output_type": "display_data",
          "data": {
            "image/png": "[encoded data removed]",
            "text/plain": [
              "<Figure size 432x288 with 1 Axes>"
            ]
          },
          "metadata": {
            "tags": []
          }
        }
      ]
    },
    {
      "cell_type": "code",
      "metadata": {
        "id": "hruAeKA106yi",
        "colab_type": "code",
        "outputId": "7fd873b9-8c44-4ea4-b405-05b9aa458188",
        "colab": {
          "base_uri": "https://localhost:8080/",
          "height": 297
        }
      },
      "source": [
        "plt.figure(figsize=(10, 4))\n",
        "librosa.display.specshow(features, x_axis='time')\n",
        "plt.colorbar()\n",
        "plt.title('MFCC')\n",
        "plt.tight_layout()\n",
        "plt.savefig('ACHRIData/SAVED/mfcc.png', dpi=100)\n",
        "plt.show()"
      ],
      "execution_count": 0,
      "outputs": [
        {
          "output_type": "display_data",
          "data": {
            "image/png": "[encoded data removed]",
            "text/plain": [
              "<Figure size 720x288 with 2 Axes>"
            ]
          },
          "metadata": {
            "tags": []
          }
        }
      ]
    },
    {
      "cell_type": "code",
      "metadata": {
        "id": "6oxA1PIc2mps",
        "colab_type": "code",
        "outputId": "95214bd7-60da-4fd1-d8f1-e5f44252f08c",
        "colab": {
          "base_uri": "https://localhost:8080/",
          "height": 297
        }
      },
      "source": [
        "features = librosa.feature.delta(features, order=2)\n",
        "plt.figure(figsize=(10, 4))\n",
        "librosa.display.specshow(features, x_axis='time')\n",
        "plt.colorbar()\n",
        "plt.title('MFCC Order 2')\n",
        "plt.tight_layout()\n",
        "plt.savefig('ACHRIData/SAVED/mfcc-order-2.png', dpi=100)\n",
        "plt.show()"
      ],
      "execution_count": 0,
      "outputs": [
        {
          "output_type": "display_data",
          "data": {
            "image/png": "[encoded data removed]",
            "text/plain": [
              "<Figure size 720x288 with 2 Axes>"
            ]
          },
          "metadata": {
            "tags": []
          }
        }
      ]
    },
    {
      "cell_type": "code",
      "metadata": {
        "id": "Q7KOCtQo2Dv2",
        "colab_type": "code",
        "outputId": "3725098c-75ba-4b51-acfb-28f23e7bd71d",
        "colab": {
          "base_uri": "https://localhost:8080/",
          "height": 33
        }
      },
      "source": [
        "sampling_rate"
      ],
      "execution_count": 0,
      "outputs": [
        {
          "output_type": "execute_result",
          "data": {
            "text/plain": [
              "22050"
            ]
          },
          "metadata": {
            "tags": []
          },
          "execution_count": 15
        }
      ]
    },
    {
      "cell_type": "code",
      "metadata": {
        "id": "L8ZR1izTOG1o",
        "colab_type": "code",
        "outputId": "3ecd0eb9-377b-44d8-cc4d-630790ae2ecb",
        "colab": {
          "base_uri": "https://localhost:8080/",
          "height": 33
        }
      },
      "source": [
        "print(data)"
      ],
      "execution_count": 0,
      "outputs": [
        {
          "output_type": "stream",
          "text": [
            "[0.11604965 0.18171008 0.15929307 ... 0.         0.         0.        ]\n"
          ],
          "name": "stdout"
        }
      ]
    },
    {
      "cell_type": "code",
      "metadata": {
        "id": "z7kxLY_GFF3V",
        "colab_type": "code",
        "outputId": "65f25dfe-65e0-4201-89e8-f8a7d46ab4af",
        "colab": {
          "base_uri": "https://localhost:8080/",
          "height": 2095
        }
      },
      "source": [
        "data, sampling_rate = librosa.load('ACHRIData/New Voice/D0.m4a')\n",
        "features = librosa.feature.mfcc(y=data, sr=sampling_rate, n_mfcc=5)\n",
        "librosa.display.waveplot(data, sr=sampling_rate)\n",
        "# plt.show()\n",
        "# librosa.display.specshow(features, x_axis='time')\n",
        "# plt.show()\n",
        "# print(len(data))\n",
        "# print(np.mean(features[0]))\n",
        "mfcc_delta = librosa.feature.delta(features)\n",
        "# librosa.display.specshow(mfcc_delta, x_axis='time')\n",
        "\n",
        "df_temp = pd.DataFrame(data, pd.Index([x / sampling_rate for x in range(len(data))]))\n",
        "# df_temp.set_index()\n",
        "df_temp\n",
        "\n",
        "# temp_list = [x / sampling_rate for x in range(len(data))]\n",
        "# temp_list[len(temp_list)-1]"
      ],
      "execution_count": 0,
      "outputs": [
        {
          "output_type": "execute_result",
          "data": {
            "text/html": [
              "<div>\n",
              "<style scoped>\n",
              "    .dataframe tbody tr th:only-of-type {\n",
              "        vertical-align: middle;\n",
              "    }\n",
              "\n",
              "    .dataframe tbody tr th {\n",
              "        vertical-align: top;\n",
              "    }\n",
              "\n",
              "    .dataframe thead th {\n",
              "        text-align: right;\n",
              "    }\n",
              "</style>\n",
              "<table border=\"1\" class=\"dataframe\">\n",
              "  <thead>\n",
              "    <tr style=\"text-align: right;\">\n",
              "      <th></th>\n",
              "      <th>0</th>\n",
              "    </tr>\n",
              "  </thead>\n",
              "  <tbody>\n",
              "    <tr>\n",
              "      <th>0.000000</th>\n",
              "      <td>0.116050</td>\n",
              "    </tr>\n",
              "    <tr>\n",
              "      <th>0.000045</th>\n",
              "      <td>0.181710</td>\n",
              "    </tr>\n",
              "    <tr>\n",
              "      <th>0.000091</th>\n",
              "      <td>0.159293</td>\n",
              "    </tr>\n",
              "    <tr>\n",
              "      <th>0.000136</th>\n",
              "      <td>0.184021</td>\n",
              "    </tr>\n",
              "    <tr>\n",
              "      <th>0.000181</th>\n",
              "      <td>0.191027</td>\n",
              "    </tr>\n",
              "    <tr>\n",
              "      <th>0.000227</th>\n",
              "      <td>0.217026</td>\n",
              "    </tr>\n",
              "    <tr>\n",
              "      <th>0.000272</th>\n",
              "      <td>0.244553</td>\n",
              "    </tr>\n",
              "    <tr>\n",
              "      <th>0.000317</th>\n",
              "      <td>0.287273</td>\n",
              "    </tr>\n",
              "    <tr>\n",
              "      <th>0.000363</th>\n",
              "      <td>0.318602</td>\n",
              "    </tr>\n",
              "    <tr>\n",
              "      <th>0.000408</th>\n",
              "      <td>0.357485</td>\n",
              "    </tr>\n",
              "    <tr>\n",
              "      <th>0.000454</th>\n",
              "      <td>0.395688</td>\n",
              "    </tr>\n",
              "    <tr>\n",
              "      <th>0.000499</th>\n",
              "      <td>0.433365</td>\n",
              "    </tr>\n",
              "    <tr>\n",
              "      <th>0.000544</th>\n",
              "      <td>0.465442</td>\n",
              "    </tr>\n",
              "    <tr>\n",
              "      <th>0.000590</th>\n",
              "      <td>0.510543</td>\n",
              "    </tr>\n",
              "    <tr>\n",
              "      <th>0.000635</th>\n",
              "      <td>0.548689</td>\n",
              "    </tr>\n",
              "    <tr>\n",
              "      <th>0.000680</th>\n",
              "      <td>0.583586</td>\n",
              "    </tr>\n",
              "    <tr>\n",
              "      <th>0.000726</th>\n",
              "      <td>0.616501</td>\n",
              "    </tr>\n",
              "    <tr>\n",
              "      <th>0.000771</th>\n",
              "      <td>0.634854</td>\n",
              "    </tr>\n",
              "    <tr>\n",
              "      <th>0.000816</th>\n",
              "      <td>0.635871</td>\n",
              "    </tr>\n",
              "    <tr>\n",
              "      <th>0.000862</th>\n",
              "      <td>0.593872</td>\n",
              "    </tr>\n",
              "    <tr>\n",
              "      <th>0.000907</th>\n",
              "      <td>0.494526</td>\n",
              "    </tr>\n",
              "    <tr>\n",
              "      <th>0.000952</th>\n",
              "      <td>0.367730</td>\n",
              "    </tr>\n",
              "    <tr>\n",
              "      <th>0.000998</th>\n",
              "      <td>0.178107</td>\n",
              "    </tr>\n",
              "    <tr>\n",
              "      <th>0.001043</th>\n",
              "      <td>-0.080604</td>\n",
              "    </tr>\n",
              "    <tr>\n",
              "      <th>0.001088</th>\n",
              "      <td>-0.307239</td>\n",
              "    </tr>\n",
              "    <tr>\n",
              "      <th>0.001134</th>\n",
              "      <td>-0.525176</td>\n",
              "    </tr>\n",
              "    <tr>\n",
              "      <th>0.001179</th>\n",
              "      <td>-0.753990</td>\n",
              "    </tr>\n",
              "    <tr>\n",
              "      <th>0.001224</th>\n",
              "      <td>-0.892480</td>\n",
              "    </tr>\n",
              "    <tr>\n",
              "      <th>0.001270</th>\n",
              "      <td>-0.926497</td>\n",
              "    </tr>\n",
              "    <tr>\n",
              "      <th>0.001315</th>\n",
              "      <td>-0.924591</td>\n",
              "    </tr>\n",
              "    <tr>\n",
              "      <th>...</th>\n",
              "      <td>...</td>\n",
              "    </tr>\n",
              "    <tr>\n",
              "      <th>244.201451</th>\n",
              "      <td>0.000000</td>\n",
              "    </tr>\n",
              "    <tr>\n",
              "      <th>244.201497</th>\n",
              "      <td>0.000000</td>\n",
              "    </tr>\n",
              "    <tr>\n",
              "      <th>244.201542</th>\n",
              "      <td>0.000000</td>\n",
              "    </tr>\n",
              "    <tr>\n",
              "      <th>244.201587</th>\n",
              "      <td>0.000000</td>\n",
              "    </tr>\n",
              "    <tr>\n",
              "      <th>244.201633</th>\n",
              "      <td>0.000000</td>\n",
              "    </tr>\n",
              "    <tr>\n",
              "      <th>244.201678</th>\n",
              "      <td>0.000000</td>\n",
              "    </tr>\n",
              "    <tr>\n",
              "      <th>244.201723</th>\n",
              "      <td>0.000000</td>\n",
              "    </tr>\n",
              "    <tr>\n",
              "      <th>244.201769</th>\n",
              "      <td>0.000000</td>\n",
              "    </tr>\n",
              "    <tr>\n",
              "      <th>244.201814</th>\n",
              "      <td>0.000000</td>\n",
              "    </tr>\n",
              "    <tr>\n",
              "      <th>244.201859</th>\n",
              "      <td>0.000000</td>\n",
              "    </tr>\n",
              "    <tr>\n",
              "      <th>244.201905</th>\n",
              "      <td>0.000000</td>\n",
              "    </tr>\n",
              "    <tr>\n",
              "      <th>244.201950</th>\n",
              "      <td>0.000000</td>\n",
              "    </tr>\n",
              "    <tr>\n",
              "      <th>244.201995</th>\n",
              "      <td>0.000000</td>\n",
              "    </tr>\n",
              "    <tr>\n",
              "      <th>244.202041</th>\n",
              "      <td>0.000000</td>\n",
              "    </tr>\n",
              "    <tr>\n",
              "      <th>244.202086</th>\n",
              "      <td>0.000000</td>\n",
              "    </tr>\n",
              "    <tr>\n",
              "      <th>244.202132</th>\n",
              "      <td>0.000000</td>\n",
              "    </tr>\n",
              "    <tr>\n",
              "      <th>244.202177</th>\n",
              "      <td>0.000000</td>\n",
              "    </tr>\n",
              "    <tr>\n",
              "      <th>244.202222</th>\n",
              "      <td>0.000000</td>\n",
              "    </tr>\n",
              "    <tr>\n",
              "      <th>244.202268</th>\n",
              "      <td>0.000000</td>\n",
              "    </tr>\n",
              "    <tr>\n",
              "      <th>244.202313</th>\n",
              "      <td>0.000000</td>\n",
              "    </tr>\n",
              "    <tr>\n",
              "      <th>244.202358</th>\n",
              "      <td>0.000000</td>\n",
              "    </tr>\n",
              "    <tr>\n",
              "      <th>244.202404</th>\n",
              "      <td>0.000000</td>\n",
              "    </tr>\n",
              "    <tr>\n",
              "      <th>244.202449</th>\n",
              "      <td>0.000000</td>\n",
              "    </tr>\n",
              "    <tr>\n",
              "      <th>244.202494</th>\n",
              "      <td>0.000000</td>\n",
              "    </tr>\n",
              "    <tr>\n",
              "      <th>244.202540</th>\n",
              "      <td>0.000000</td>\n",
              "    </tr>\n",
              "    <tr>\n",
              "      <th>244.202585</th>\n",
              "      <td>0.000000</td>\n",
              "    </tr>\n",
              "    <tr>\n",
              "      <th>244.202630</th>\n",
              "      <td>0.000000</td>\n",
              "    </tr>\n",
              "    <tr>\n",
              "      <th>244.202676</th>\n",
              "      <td>0.000000</td>\n",
              "    </tr>\n",
              "    <tr>\n",
              "      <th>244.202721</th>\n",
              "      <td>0.000000</td>\n",
              "    </tr>\n",
              "    <tr>\n",
              "      <th>244.202766</th>\n",
              "      <td>0.000000</td>\n",
              "    </tr>\n",
              "  </tbody>\n",
              "</table>\n",
              "<p>5384672 rows × 1 columns</p>\n",
              "</div>"
            ],
            "text/plain": [
              "                   0\n",
              "0.000000    0.116050\n",
              "0.000045    0.181710\n",
              "0.000091    0.159293\n",
              "0.000136    0.184021\n",
              "0.000181    0.191027\n",
              "0.000227    0.217026\n",
              "0.000272    0.244553\n",
              "0.000317    0.287273\n",
              "0.000363    0.318602\n",
              "0.000408    0.357485\n",
              "0.000454    0.395688\n",
              "0.000499    0.433365\n",
              "0.000544    0.465442\n",
              "0.000590    0.510543\n",
              "0.000635    0.548689\n",
              "0.000680    0.583586\n",
              "0.000726    0.616501\n",
              "0.000771    0.634854\n",
              "0.000816    0.635871\n",
              "0.000862    0.593872\n",
              "0.000907    0.494526\n",
              "0.000952    0.367730\n",
              "0.000998    0.178107\n",
              "0.001043   -0.080604\n",
              "0.001088   -0.307239\n",
              "0.001134   -0.525176\n",
              "0.001179   -0.753990\n",
              "0.001224   -0.892480\n",
              "0.001270   -0.926497\n",
              "0.001315   -0.924591\n",
              "...              ...\n",
              "244.201451  0.000000\n",
              "244.201497  0.000000\n",
              "244.201542  0.000000\n",
              "244.201587  0.000000\n",
              "244.201633  0.000000\n",
              "244.201678  0.000000\n",
              "244.201723  0.000000\n",
              "244.201769  0.000000\n",
              "244.201814  0.000000\n",
              "244.201859  0.000000\n",
              "244.201905  0.000000\n",
              "244.201950  0.000000\n",
              "244.201995  0.000000\n",
              "244.202041  0.000000\n",
              "244.202086  0.000000\n",
              "244.202132  0.000000\n",
              "244.202177  0.000000\n",
              "244.202222  0.000000\n",
              "244.202268  0.000000\n",
              "244.202313  0.000000\n",
              "244.202358  0.000000\n",
              "244.202404  0.000000\n",
              "244.202449  0.000000\n",
              "244.202494  0.000000\n",
              "244.202540  0.000000\n",
              "244.202585  0.000000\n",
              "244.202630  0.000000\n",
              "244.202676  0.000000\n",
              "244.202721  0.000000\n",
              "244.202766  0.000000\n",
              "\n",
              "[5384672 rows x 1 columns]"
            ]
          },
          "metadata": {
            "tags": []
          },
          "execution_count": 118
        },
        {
          "output_type": "display_data",
          "data": {
            "image/png": "[encoded data removed]",
            "text/plain": [
              "<Figure size 432x288 with 1 Axes>"
            ]
          },
          "metadata": {
            "tags": []
          }
        }
      ]
    },
    {
      "cell_type": "code",
      "metadata": {
        "id": "whzB8dz2kKw8",
        "colab_type": "code",
        "outputId": "2f54d9ed-3371-42d6-f84e-ff768e132b25",
        "colab": {
          "base_uri": "https://localhost:8080/",
          "height": 82
        }
      },
      "source": [
        "print(data.shape)\n",
        "print(5384672 / 22050)\n",
        "print(244.20281179138323 / 60)\n",
        "print(512 / sampling_rate)"
      ],
      "execution_count": 0,
      "outputs": [
        {
          "output_type": "stream",
          "text": [
            "(2971616,)\n",
            "244.20281179138323\n",
            "4.07004686318972\n",
            "0.023219954648526078\n"
          ],
          "name": "stdout"
        }
      ]
    },
    {
      "cell_type": "code",
      "metadata": {
        "id": "xP1M0zpsgXXl",
        "colab_type": "code",
        "colab": {}
      },
      "source": [
        "# import IPython\n",
        "# IPython.display.Audio(data=data, rate=sampling_rate)"
      ],
      "execution_count": 0,
      "outputs": []
    },
    {
      "cell_type": "code",
      "metadata": {
        "id": "c94-qgTChu5P",
        "colab_type": "code",
        "outputId": "3069d82f-c56d-453a-8f17-155a129141a7",
        "colab": {
          "base_uri": "https://localhost:8080/",
          "height": 245
        }
      },
      "source": [
        "\n",
        "print(features.shape)\n",
        "print(features)\n",
        "# 3620320 / 512\n",
        "# 2971616 / 5804"
      ],
      "execution_count": 0,
      "outputs": [
        {
          "output_type": "stream",
          "text": [
            "(10, 5804)\n",
            "[[-386.80075644 -373.63350767 -363.99139902 ... -323.69341542\n",
            "  -260.34296368 -282.81458212]\n",
            " [  99.71393115   98.96097807   98.33746787 ...   98.23127439\n",
            "    58.77651367   59.62298561]\n",
            " [  47.94928901   36.79143402   21.81795859 ...   15.55762581\n",
            "     6.95256457    1.98393006]\n",
            " ...\n",
            " [   7.22111655   16.78373133   18.03968344 ...   23.02188216\n",
            "    30.49478202   29.09906366]\n",
            " [   2.85058247   -2.32005585   -7.02388029 ...  -14.23079414\n",
            "   -13.23579867  -12.22342646]\n",
            " [   9.62556517   10.6477797    10.0040528  ...   21.98380712\n",
            "    26.80506942   28.9300661 ]]\n"
          ],
          "name": "stdout"
        }
      ]
    },
    {
      "cell_type": "code",
      "metadata": {
        "id": "_P3JBO8NlmOB",
        "colab_type": "code",
        "outputId": "e499e03f-0bb3-46dd-e6f2-51140defce81",
        "colab": {
          "base_uri": "https://localhost:8080/",
          "height": 297
        }
      },
      "source": [
        "plt.figure(figsize=(10, 4))\n",
        "librosa.display.specshow(features, x_axis='time')\n",
        "plt.colorbar()\n",
        "plt.title('MFCC')\n",
        "plt.tight_layout()"
      ],
      "execution_count": 0,
      "outputs": [
        {
          "output_type": "display_data",
          "data": {
            "image/png": "[encoded data removed]",
            "text/plain": [
              "<Figure size 720x288 with 2 Axes>"
            ]
          },
          "metadata": {
            "tags": []
          }
        }
      ]
    },
    {
      "cell_type": "code",
      "metadata": {
        "id": "SIEeqka49pVq",
        "colab_type": "code",
        "outputId": "0b347acd-90cc-413f-edce-f32193e70b4d",
        "colab": {
          "base_uri": "https://localhost:8080/",
          "height": 365
        }
      },
      "source": [
        "# taking average of features\n",
        "x, y = features.shape\n",
        "av_features = np.zeros(shape=(1, y))\n",
        "# print(x, y)\n",
        "\n",
        "for i in range(x):\n",
        "  for j in range(y):\n",
        "    av_features[0][j] += features[i][j]\n",
        "\n",
        "print(av_features.shape)\n",
        "print(av_features)\n",
        "\n",
        "# counter = 0\n",
        "# for i in range(y):\n",
        "#   if av_features[0][i] < 0:\n",
        "#     av_features[0][i] = 0\n",
        "#   else:\n",
        "#     counter += 1\n",
        "#     av_features[0][i] = 200\n",
        "\n",
        "print(np.mean(features))\n",
        "librosa.display.specshow(av_features, x_axis='time')"
      ],
      "execution_count": 0,
      "outputs": [
        {
          "output_type": "stream",
          "text": [
            "(1, 5804)\n",
            "[[-183.92801425 -174.94583013 -178.09688222 ... -162.52013159\n",
            "  -154.80288855 -179.52398146]]\n",
            "-18.083729991305297\n"
          ],
          "name": "stdout"
        },
        {
          "output_type": "execute_result",
          "data": {
            "text/plain": [
              "<matplotlib.axes._subplots.AxesSubplot at 0x7f94457fe5c0>"
            ]
          },
          "metadata": {
            "tags": []
          },
          "execution_count": 80
        },
        {
          "output_type": "display_data",
          "data": {
            "image/png": "[encoded data removed]",
            "text/plain": [
              "<Figure size 432x288 with 1 Axes>"
            ]
          },
          "metadata": {
            "tags": []
          }
        }
      ]
    },
    {
      "cell_type": "code",
      "metadata": {
        "id": "FqiREAly_mRA",
        "colab_type": "code",
        "outputId": "e502269e-cbce-481b-fcd9-3ea98bf6998d",
        "colab": {
          "base_uri": "https://localhost:8080/",
          "height": 300
        }
      },
      "source": [
        "librosa.display.waveplot(data, sr=sampling_rate)"
      ],
      "execution_count": 0,
      "outputs": [
        {
          "output_type": "execute_result",
          "data": {
            "text/plain": [
              "<matplotlib.collections.PolyCollection at 0x7f9448aa15f8>"
            ]
          },
          "metadata": {
            "tags": []
          },
          "execution_count": 44
        },
        {
          "output_type": "display_data",
          "data": {
            "image/png": "[encoded data removed]",
            "text/plain": [
              "<Figure size 432x288 with 1 Axes>"
            ]
          },
          "metadata": {
            "tags": []
          }
        }
      ]
    },
    {
      "cell_type": "code",
      "metadata": {
        "id": "LfNwGzmO_9R-",
        "colab_type": "code",
        "outputId": "ec2f192d-9e10-4b41-b8b7-4be58350f0ea",
        "colab": {
          "base_uri": "https://localhost:8080/",
          "height": 356
        }
      },
      "source": [
        "list_av_features = []\n",
        "for i in range(y):\n",
        "  list_av_features.append(av_features[0][i])\n",
        "  \n",
        "print(st.mean(list_av_features))\n",
        "print(st.median(list_av_features))\n",
        "plt.figure(figsize=(18,5))\n",
        "plt.boxplot(list_av_features, vert=False)\n",
        "plt.show()"
      ],
      "execution_count": 0,
      "outputs": [
        {
          "output_type": "stream",
          "text": [
            "-180.83729991305302\n",
            "-187.53334468090821\n"
          ],
          "name": "stdout"
        },
        {
          "output_type": "display_data",
          "data": {
            "image/png": "[encoded data removed]",
            "text/plain": [
              "<Figure size 1296x360 with 1 Axes>"
            ]
          },
          "metadata": {
            "tags": []
          }
        }
      ]
    },
    {
      "cell_type": "code",
      "metadata": {
        "id": "R77PC2TFCY0r",
        "colab_type": "code",
        "outputId": "7bd091c2-3886-4a66-ab4e-0a91649226fa",
        "colab": {
          "base_uri": "https://localhost:8080/",
          "height": 300
        }
      },
      "source": [
        "np_temp = np.zeros(shape=(1, y))\n",
        "for i in range(500):\n",
        "  np_temp[0][i] = 200\n",
        "\n",
        "librosa.display.specshow(np_temp, x_axis='time')"
      ],
      "execution_count": 0,
      "outputs": [
        {
          "output_type": "execute_result",
          "data": {
            "text/plain": [
              "<matplotlib.axes._subplots.AxesSubplot at 0x7f9445c29828>"
            ]
          },
          "metadata": {
            "tags": []
          },
          "execution_count": 68
        },
        {
          "output_type": "display_data",
          "data": {
            "image/png": "[encoded data removed]",
            "text/plain": [
              "<Figure size 432x288 with 1 Axes>"
            ]
          },
          "metadata": {
            "tags": []
          }
        }
      ]
    },
    {
      "cell_type": "code",
      "metadata": {
        "id": "t5xYhHPMkBe_",
        "colab_type": "code",
        "outputId": "2fe5bfb2-db18-44fb-f224-4127d8f02db3",
        "colab": {
          "base_uri": "https://localhost:8080/",
          "height": 228
        }
      },
      "source": [
        "features_new = librosa.feature.mfcc(y=data, sr=sampling_rate, n_mfcc=10)\n",
        "print(features_new.shape)\n",
        "print(features_new)\n",
        "# 10517 / 22050\n",
        "# librosa.display.waveplot(data, sr=sampling_rate)"
      ],
      "execution_count": 0,
      "outputs": [
        {
          "output_type": "execute_result",
          "data": {
            "text/plain": [
              "array([[-386.80075644, -373.63350767, -363.99139902, ..., -323.69341542,\n",
              "        -260.34296368, -282.81458212],\n",
              "       [  99.71393115,   98.96097807,   98.33746787, ...,   98.23127439,\n",
              "          58.77651367,   59.62298561],\n",
              "       [  47.94928901,   36.79143402,   21.81795859, ...,   15.55762581,\n",
              "           6.95256457,    1.98393006],\n",
              "       ...,\n",
              "       [   7.22111655,   16.78373133,   18.03968344, ...,   23.02188216,\n",
              "          30.49478202,   29.09906366],\n",
              "       [   2.85058247,   -2.32005585,   -7.02388029, ...,  -14.23079414,\n",
              "         -13.23579867,  -12.22342646],\n",
              "       [   9.62556517,   10.6477797 ,   10.0040528 , ...,   21.98380712,\n",
              "          26.80506942,   28.9300661 ]])"
            ]
          },
          "metadata": {
            "tags": []
          },
          "execution_count": 13
        }
      ]
    },
    {
      "cell_type": "code",
      "metadata": {
        "id": "XQO3A6Pgm3k3",
        "colab_type": "code",
        "outputId": "073ef7c3-d757-46cd-86ed-2ce6c51b5d7a",
        "colab": {
          "base_uri": "https://localhost:8080/",
          "height": 297
        }
      },
      "source": [
        "plt.figure(figsize=(10, 4))\n",
        "librosa.display.specshow(features_new, x_axis='time')\n",
        "plt.colorbar()\n",
        "plt.title('MFCC')\n",
        "plt.tight_layout()"
      ],
      "execution_count": 0,
      "outputs": [
        {
          "output_type": "display_data",
          "data": {
            "image/png": "[encoded data removed]",
            "text/plain": [
              "<Figure size 720x288 with 2 Axes>"
            ]
          },
          "metadata": {
            "tags": []
          }
        }
      ]
    },
    {
      "cell_type": "code",
      "metadata": {
        "id": "lFYyCB2vcWDs",
        "colab_type": "code",
        "outputId": "2d8e539e-7b62-4eec-cdca-87aa28ba7df2",
        "colab": {
          "base_uri": "https://localhost:8080/",
          "height": 98
        }
      },
      "source": [
        "features_new = librosa.feature.mfcc(y=data, sr=sampling_rate, n_mfcc=5)\n",
        "for i in range(len(features_new)):\n",
        "  print(st.mean(features_new[i]))"
      ],
      "execution_count": 0,
      "outputs": [
        {
          "output_type": "stream",
          "text": [
            "-385.69330027809735\n",
            "127.689253663681\n",
            "27.012913315229248\n",
            "8.004845841200286\n",
            "15.379586325994426\n"
          ],
          "name": "stdout"
        }
      ]
    }
  ]
}